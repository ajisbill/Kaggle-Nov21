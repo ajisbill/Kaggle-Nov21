{
 "cells": [
  {
   "cell_type": "markdown",
   "id": "59a84224",
   "metadata": {},
   "source": [
    "## Lab 9 \n",
    "### Alex Isbill"
   ]
  },
  {
   "cell_type": "code",
   "execution_count": 234,
   "id": "bc104d2e",
   "metadata": {},
   "outputs": [],
   "source": [
    "import pandas as pd\n",
    "import matplotlib as plt\n",
    "import seaborn as sns\n",
    "from sklearn.model_selection import train_test_split\n",
    "from sklearn.preprocessing import StandardScaler, MinMaxScaler\n",
    "from sklearn.linear_model import LogisticRegression\n",
    "from sklearn.neighbors import KNeighborsClassifier\n",
    "from sklearn.svm import SVC\n",
    "from sklearn.tree import DecisionTreeClassifier\n",
    "from sklearn.ensemble import RandomForestClassifier\n",
    "from sklearn.neural_network import MLPClassifier\n",
    "from sklearn.naive_bayes import GaussianNB\n",
    "from sklearn.metrics import roc_curve, roc_auc_score, auc, f1_score, accuracy_score, confusion_matrix, plot_confusion_matrix\n",
    "from sklearn.model_selection import StratifiedKFold, GridSearchCV"
   ]
  },
  {
   "cell_type": "markdown",
   "id": "8c6d629d",
   "metadata": {},
   "source": [
    "### Data Preprocessing\n",
    "- Imported datasets from Kaggle\n",
    "- Plotted the distribution of target labels\n",
    "    - Labels are roughly evenly distributed so we are able to take a random sample of the data and use in training\n",
    "- Sample of 10,000 is taken for faster training\n",
    "- Function made to scale and split data into 80-20 train and validation sets\n",
    "    - Validation and test sets are scaled based off the training set"
   ]
  },
  {
   "cell_type": "code",
   "execution_count": 257,
   "id": "4bfb9f95",
   "metadata": {},
   "outputs": [],
   "source": [
    "data = pd.read_csv(\"train.csv\")\n",
    "X_test = pd.read_csv(\"test.csv\").drop(columns = [\"id\"])\n",
    "submission = pd.read_csv(\"sample_submission.csv\")"
   ]
  },
  {
   "cell_type": "code",
   "execution_count": 236,
   "id": "23365f5d",
   "metadata": {},
   "outputs": [
    {
     "data": {
      "image/png": "[encoded data removed]",
      "text/plain": [
       "<Figure size 432x288 with 1 Axes>"
      ]
     },
     "metadata": {
      "needs_background": "light"
     },
     "output_type": "display_data"
    }
   ],
   "source": [
    "X = data.drop(columns=[\"target\",\"id\"])\n",
    "y = data[\"target\"]\n",
    "sns.histplot(y);"
   ]
  },
  {
   "cell_type": "code",
   "execution_count": 237,
   "id": "751334ba",
   "metadata": {},
   "outputs": [],
   "source": [
    "# Create Sample datasets for quicker training\n",
    "sample = data.sample(n=10000, random_state=1)\n",
    "Xsamp = sample.drop(columns=[\"target\",'id'])\n",
    "ysamp = sample[\"target\"]"
   ]
  },
  {
   "cell_type": "code",
   "execution_count": 245,
   "id": "1df79dad",
   "metadata": {},
   "outputs": [],
   "source": [
    "# Scales and splits data into 80-20 train-val sets\n",
    "# Scales all sets using scaler fitted on training set\n",
    "def scaleSplit(X,y,X_test):\n",
    "    X_train, X_val, y_train, y_val = train_test_split(X,y,train_size = .8, random_state=1)\n",
    "\n",
    "    scaler = StandardScaler()\n",
    "\n",
    "    X_train = pd.DataFrame(scaler.fit_transform(X_train), columns = X.columns)\n",
    "    X_val = pd.DataFrame(scaler.transform(X_val), columns = X.columns)\n",
    "    X_test = pd.DataFrame(scaler.transform(X_test), columns = X.columns)\n",
    "    \n",
    "    return X_train, X_val, y_train, y_val, X_test"
   ]
  },
  {
   "cell_type": "markdown",
   "id": "4d145506",
   "metadata": {},
   "source": [
    "### Evaluation Environment and Baseline Testing\n",
    "- The evaluation environment simply returns the accuracy and AUC score for a given model\n",
    "- By looping through multiple classification models, we can see which performs best on the dataset\n",
    "    - After choosing the basic model, we can tune hyperparameters to get better predictions"
   ]
  },
  {
   "cell_type": "code",
   "execution_count": 253,
   "id": "fc34357b",
   "metadata": {},
   "outputs": [],
   "source": [
    "def evalEnv(model, X_train, y_train, X_val, y_val):\n",
    "    clf = model\n",
    "    clf.fit(X_train, y_train)\n",
    "    y_pred_val = clf.predict(X_val)\n",
    "    print(f\"{model}\\n AUC Score: {roc_auc_score(y_val, y_pred_val)}\")\n",
    "    print(f\"Accuracy Score: {accuracy_score(y_val, y_pred_val)}\\n\")\n",
    "    return clf"
   ]
  },
  {
   "cell_type": "code",
   "execution_count": 254,
   "id": "df4046d1",
   "metadata": {},
   "outputs": [
    {
     "name": "stdout",
     "output_type": "stream",
     "text": [
      "KNeighborsClassifier()\n",
      " AUC Score: 0.5577631494650521\n",
      "Accuracy Score: 0.557\n",
      "\n",
      "LogisticRegression()\n",
      " AUC Score: 0.7109920558652061\n",
      "Accuracy Score: 0.711\n",
      "\n",
      "SVC()\n",
      " AUC Score: 0.6866751553590876\n",
      "Accuracy Score: 0.6865\n",
      "\n",
      "DecisionTreeClassifier()\n",
      " AUC Score: 0.5343271510026266\n",
      "Accuracy Score: 0.5345\n",
      "\n",
      "RandomForestClassifier()\n",
      " AUC Score: 0.6454689602152605\n",
      "Accuracy Score: 0.645\n",
      "\n",
      "MLPClassifier(max_iter=500)\n",
      " AUC Score: 0.5953536421295407\n",
      "Accuracy Score: 0.595\n",
      "\n",
      "GaussianNB()\n",
      " AUC Score: 0.583669677750016\n",
      "Accuracy Score: 0.576\n",
      "\n"
     ]
    }
   ],
   "source": [
    "models = {  \"Nearest Neighbors\": KNeighborsClassifier(),\n",
    "            \"Logistic Regression\": LogisticRegression(),\n",
    "            \"Linear SVM\": SVC(),\n",
    "            \"Decision Tree\": DecisionTreeClassifier(),\n",
    "            \"Random Forest\": RandomForestClassifier(),\n",
    "            \"Neural Network\": MLPClassifier(max_iter=500),\n",
    "            \"Naive Bayes\": GaussianNB(),}\n",
    "\n",
    "X_train, X_val, y_train, y_val, X_test = scaleSplit(Xsamp, ysamp, X_test)\n",
    "\n",
    "for model in models:\n",
    "    evalEnv(models[model], X_train, y_train, X_val, y_val)"
   ]
  },
  {
   "cell_type": "markdown",
   "id": "bf569382",
   "metadata": {},
   "source": [
    "### Hyperparameter Tuning\n",
    "- Logistic Regression scores the highest of any model without any tuning (0.71) on the sample set.\n",
    "- After performing `GridSearchCV` with multiple different parameter combinations, none seemed to change the performance very much.\n",
    "    - **max_iter: 5000** because lower values did not allow the model to converge\n",
    "    - **solver: liblinear** performed slighlty better in previous GridCV testing\n",
    "    - **penalty: l1** highest mean score in GridCV with C = 10\n",
    "    - **C: 10** highest mean score in GridCV with penalty = l1"
   ]
  },
  {
   "cell_type": "code",
   "execution_count": 241,
   "id": "55ff0c74",
   "metadata": {},
   "outputs": [
    {
     "data": {
      "text/html": [
       "<div>\n",
       "<style scoped>\n",
       "    .dataframe tbody tr th:only-of-type {\n",
       "        vertical-align: middle;\n",
       "    }\n",
       "\n",
       "    .dataframe tbody tr th {\n",
       "        vertical-align: top;\n",
       "    }\n",
       "\n",
       "    .dataframe thead th {\n",
       "        text-align: right;\n",
       "    }\n",
       "</style>\n",
       "<table border=\"1\" class=\"dataframe\">\n",
       "  <thead>\n",
       "    <tr style=\"text-align: right;\">\n",
       "      <th></th>\n",
       "      <th>param_penalty</th>\n",
       "      <th>param_C</th>\n",
       "      <th>mean_test_score</th>\n",
       "    </tr>\n",
       "  </thead>\n",
       "  <tbody>\n",
       "    <tr>\n",
       "      <th>0</th>\n",
       "      <td>l1</td>\n",
       "      <td>1</td>\n",
       "      <td>0.707875</td>\n",
       "    </tr>\n",
       "    <tr>\n",
       "      <th>1</th>\n",
       "      <td>l2</td>\n",
       "      <td>1</td>\n",
       "      <td>0.708125</td>\n",
       "    </tr>\n",
       "    <tr>\n",
       "      <th>2</th>\n",
       "      <td>l1</td>\n",
       "      <td>10</td>\n",
       "      <td>0.708250</td>\n",
       "    </tr>\n",
       "    <tr>\n",
       "      <th>3</th>\n",
       "      <td>l2</td>\n",
       "      <td>10</td>\n",
       "      <td>0.708125</td>\n",
       "    </tr>\n",
       "    <tr>\n",
       "      <th>4</th>\n",
       "      <td>l1</td>\n",
       "      <td>20</td>\n",
       "      <td>0.708125</td>\n",
       "    </tr>\n",
       "    <tr>\n",
       "      <th>5</th>\n",
       "      <td>l2</td>\n",
       "      <td>20</td>\n",
       "      <td>0.708125</td>\n",
       "    </tr>\n",
       "  </tbody>\n",
       "</table>\n",
       "</div>"
      ],
      "text/plain": [
       "  param_penalty param_C  mean_test_score\n",
       "0            l1       1         0.707875\n",
       "1            l2       1         0.708125\n",
       "2            l1      10         0.708250\n",
       "3            l2      10         0.708125\n",
       "4            l1      20         0.708125\n",
       "5            l2      20         0.708125"
      ]
     },
     "execution_count": 241,
     "metadata": {},
     "output_type": "execute_result"
    }
   ],
   "source": [
    "parameters = {'penalty': ['l1','l2'], 'C':[1,10,20]}\n",
    "logReg = LogisticRegression(max_iter = 5000, solver= 'liblinear')\n",
    "grid = GridSearchCV(logReg, parameters, cv=3)\n",
    "grid.fit(X_train, y_train)\n",
    "results = grid.cv_results_\n",
    "df = pd.DataFrame(results)\n",
    "bestParams = df[[\"param_penalty\", 'param_C', 'mean_test_score']]\n",
    "bestParams"
   ]
  },
  {
   "cell_type": "markdown",
   "id": "bd24b2c1",
   "metadata": {},
   "source": [
    "### Final Model\n",
    "- The final model performs slightly better on the full training set with an AUC score of 0.736\n",
    "- Submitting to Kaggle, we get a score of 0.74545 on the test set."
   ]
  },
  {
   "cell_type": "code",
   "execution_count": 258,
   "id": "3a655679",
   "metadata": {
    "scrolled": true
   },
   "outputs": [
    {
     "name": "stdout",
     "output_type": "stream",
     "text": [
      "LogisticRegression(C=10, max_iter=5000, penalty='l1', solver='liblinear')\n",
      " AUC Score: 0.7367832239399316\n",
      "Accuracy Score: 0.736875\n",
      "\n"
     ]
    }
   ],
   "source": [
    "X_train, X_val, y_train, y_val, X_test = scaleSplit(X, y, X_test)\n",
    "hypelogReg = LogisticRegression(solver = 'liblinear', C = 10 , max_iter = 5000, penalty = 'l1')\n",
    "final = evalEnv(hypelogReg, X_train, y_train, X_val, y_val)"
   ]
  },
  {
   "cell_type": "code",
   "execution_count": 259,
   "id": "0403a4fe",
   "metadata": {},
   "outputs": [
    {
     "data": {
      "text/html": [
       "<div>\n",
       "<style scoped>\n",
       "    .dataframe tbody tr th:only-of-type {\n",
       "        vertical-align: middle;\n",
       "    }\n",
       "\n",
       "    .dataframe tbody tr th {\n",
       "        vertical-align: top;\n",
       "    }\n",
       "\n",
       "    .dataframe thead th {\n",
       "        text-align: right;\n",
       "    }\n",
       "</style>\n",
       "<table border=\"1\" class=\"dataframe\">\n",
       "  <thead>\n",
       "    <tr style=\"text-align: right;\">\n",
       "      <th></th>\n",
       "      <th>id</th>\n",
       "      <th>target</th>\n",
       "    </tr>\n",
       "  </thead>\n",
       "  <tbody>\n",
       "    <tr>\n",
       "      <th>0</th>\n",
       "      <td>600000</td>\n",
       "      <td>0.676706</td>\n",
       "    </tr>\n",
       "    <tr>\n",
       "      <th>1</th>\n",
       "      <td>600001</td>\n",
       "      <td>0.614298</td>\n",
       "    </tr>\n",
       "    <tr>\n",
       "      <th>2</th>\n",
       "      <td>600002</td>\n",
       "      <td>0.790162</td>\n",
       "    </tr>\n",
       "    <tr>\n",
       "      <th>3</th>\n",
       "      <td>600003</td>\n",
       "      <td>0.468759</td>\n",
       "    </tr>\n",
       "    <tr>\n",
       "      <th>4</th>\n",
       "      <td>600004</td>\n",
       "      <td>0.554166</td>\n",
       "    </tr>\n",
       "    <tr>\n",
       "      <th>...</th>\n",
       "      <td>...</td>\n",
       "      <td>...</td>\n",
       "    </tr>\n",
       "    <tr>\n",
       "      <th>539995</th>\n",
       "      <td>1139995</td>\n",
       "      <td>0.659889</td>\n",
       "    </tr>\n",
       "    <tr>\n",
       "      <th>539996</th>\n",
       "      <td>1139996</td>\n",
       "      <td>0.646935</td>\n",
       "    </tr>\n",
       "    <tr>\n",
       "      <th>539997</th>\n",
       "      <td>1139997</td>\n",
       "      <td>0.516683</td>\n",
       "    </tr>\n",
       "    <tr>\n",
       "      <th>539998</th>\n",
       "      <td>1139998</td>\n",
       "      <td>0.648693</td>\n",
       "    </tr>\n",
       "    <tr>\n",
       "      <th>539999</th>\n",
       "      <td>1139999</td>\n",
       "      <td>0.657125</td>\n",
       "    </tr>\n",
       "  </tbody>\n",
       "</table>\n",
       "<p>540000 rows × 2 columns</p>\n",
       "</div>"
      ],
      "text/plain": [
       "             id    target\n",
       "0        600000  0.676706\n",
       "1        600001  0.614298\n",
       "2        600002  0.790162\n",
       "3        600003  0.468759\n",
       "4        600004  0.554166\n",
       "...         ...       ...\n",
       "539995  1139995  0.659889\n",
       "539996  1139996  0.646935\n",
       "539997  1139997  0.516683\n",
       "539998  1139998  0.648693\n",
       "539999  1139999  0.657125\n",
       "\n",
       "[540000 rows x 2 columns]"
      ]
     },
     "execution_count": 259,
     "metadata": {},
     "output_type": "execute_result"
    }
   ],
   "source": [
    "test_predictions = final.predict_proba(X_test)[:,1]\n",
    "submission[\"target\"] = test_predictions\n",
    "submission"
   ]
  },
  {
   "cell_type": "code",
   "execution_count": 244,
   "id": "497a959d",
   "metadata": {},
   "outputs": [],
   "source": [
    "#submission.to_csv(\"sub1.csv\", index=False)"
   ]
  },
  {
   "cell_type": "markdown",
   "id": "fbea2cde",
   "metadata": {},
   "source": [
    "### Kaggle Submission\n",
    "![](kaggle.png)"
   ]
  }
 ],
 "metadata": {
  "kernelspec": {
   "display_name": "Python 3 (ipykernel)",
   "language": "python",
   "name": "python3"
  },
  "language_info": {
   "codemirror_mode": {
    "name": "ipython",
    "version": 3
   },
   "file_extension": ".py",
   "mimetype": "text/x-python",
   "name": "python",
   "nbconvert_exporter": "python",
   "pygments_lexer": "ipython3",
   "version": "3.9.7"
  }
 },
 "nbformat": 4,
 "nbformat_minor": 5
}
